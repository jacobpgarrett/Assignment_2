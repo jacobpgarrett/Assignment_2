{
 "cells": [
  {
   "cell_type": "markdown",
   "metadata": {},
   "source": [
    "# Matrix Structural Analysis Use Tutorial"
   ]
  },
  {
   "cell_type": "markdown",
   "metadata": {},
   "source": [
    "## This tutorial outlines the use of the matrix structural analysis algorithm for a triangular structure with connections between the bottom nodes and the top nodes.  There is a force being applied in both the x and y directions at the top node."
   ]
  },
  {
   "cell_type": "markdown",
   "metadata": {},
   "source": [
    "### Begin by importing necessary libraries and functionality from matrix structural analysis file"
   ]
  },
  {
   "cell_type": "code",
   "execution_count": null,
   "metadata": {},
   "outputs": [],
   "source": [
    "import sys\n",
    "import os\n",
    "sys.path.append(os.path.abspath(os.path.join(os.path.dirname(__file__), '..')))\n",
    "import numpy as np\n",
    "from src.mat_struct import mat_struct"
   ]
  },
  {
   "cell_type": "markdown",
   "metadata": {},
   "source": [
    "### Define node coordinates as row vectors (x, y, z)"
   ]
  },
  {
   "cell_type": "code",
   "execution_count": null,
   "metadata": {},
   "outputs": [],
   "source": [
    "node0 = [0, 0, 0]  # Pinned\n",
    "node1 = [2, 0, 0]  # Midpoint (force applied)\n",
    "node2 = [4, 0, 0]  # Pin\n",
    "nodes = np.array([node0, node1, node2])"
   ]
  },
  {
   "cell_type": "markdown",
   "metadata": {},
   "source": [
    "### Define elements to establish connectivity in the structure ([node1, node2, E, v, A, Iz, Iy, Ip, J, z_axis])"
   ]
  },
  {
   "cell_type": "code",
   "execution_count": null,
   "metadata": {},
   "outputs": [],
   "source": [
    "el_1 = [0, 1, 200e9, 0.3, 0.01, 8.33e-6, 8.33e-6, 0, 0, [0, 0, 1]]\n",
    "el_2 = [1, 2, 200e9, 0.3, 0.01, 8.33e-6, 8.33e-6, 0, 0, [0, 0, 1]]\n",
    "element_connect = np.array([el_1, el_2], dtype=object)"
   ]
  },
  {
   "cell_type": "markdown",
   "metadata": {},
   "source": [
    "### Define applied forces as node vectors corresponding to the node location (Fx, Fy, Fz, Mx, My, Mz)"
   ]
  },
  {
   "cell_type": "code",
   "execution_count": null,
   "metadata": {},
   "outputs": [],
   "source": [
    "f_appl = np.array([[0,0,0,0,0,0],   # Node 0: No force\n",
    "                   [1,1,0,0,0,0],   # Node 1: Applied force in x and y direction\n",
    "                   [0,0,0,0,0,0]])  # Node 2: No force"
   ]
  },
  {
   "cell_type": "markdown",
   "metadata": {},
   "source": [
    "### Define support conditions (Node index, Fixed, Pinned)"
   ]
  },
  {
   "cell_type": "code",
   "execution_count": null,
   "metadata": {},
   "outputs": [],
   "source": [
    "support_0 = [0, 1, 0]  # Pinned: Restrains all translation (x, y, z)\n",
    "support_2 = [2, 0, 1]  # Roller: Restrains only y-translation\n",
    "supports = np.array([support_0, support_2])"
   ]
  },
  {
   "cell_type": "markdown",
   "metadata": {},
   "source": [
    "### Run Matrix Structural Analysis Algorithm to output displacement vector and force vector, respectively"
   ]
  },
  {
   "cell_type": "code",
   "execution_count": null,
   "metadata": {},
   "outputs": [],
   "source": [
    "del_vec, F_vec = mat_struct(nodes, element_connect, f_appl, supports)"
   ]
  },
  {
   "cell_type": "markdown",
   "metadata": {},
   "source": [
    "### Print Results"
   ]
  },
  {
   "cell_type": "code",
   "execution_count": null,
   "metadata": {},
   "outputs": [],
   "source": [
    "print(\"Displacements:\\n\", del_vec)\n",
    "print(\"Forces:\\n\", F_vec)"
   ]
  }
 ],
 "metadata": {
  "kernelspec": {
   "display_name": "base",
   "language": "python",
   "name": "python3"
  },
  "language_info": {
   "name": "python",
   "version": "3.12.7"
  }
 },
 "nbformat": 4,
 "nbformat_minor": 2
}
