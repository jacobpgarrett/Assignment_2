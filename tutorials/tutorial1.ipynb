{
 "cells": [
  {
   "cell_type": "markdown",
   "metadata": {},
   "source": [
    "# Matrix Structural Analysis Use Tutorial"
   ]
  },
  {
   "cell_type": "markdown",
   "metadata": {},
   "source": [
    "## This tutorial outlines the use of the matrix structural analysis algorithm for a triangular structure with connections between the bottom nodes and the top nodes.  There is a force being applied in both the x and y directions at the top node."
   ]
  },
  {
   "cell_type": "markdown",
   "metadata": {},
   "source": [
    "### Begin by importing necessary libraries and functionality from matrix structural analysis file"
   ]
  },
  {
   "cell_type": "code",
   "execution_count": 1,
   "metadata": {},
   "outputs": [],
   "source": [
    "import sys\n",
    "import os\n",
    "import numpy as np\n",
    "\n",
    "sys.path.append(os.path.abspath('..'))\n",
    "from src.mat_struct import mat_struct\n",
    "from src.mat_struct import mat_struct"
   ]
  },
  {
   "cell_type": "markdown",
   "metadata": {},
   "source": [
    "### Define node coordinates as row vectors (x, y, z)"
   ]
  },
  {
   "cell_type": "code",
   "execution_count": 2,
   "metadata": {},
   "outputs": [],
   "source": [
    "node0 = [0, 0, 0]  # Pinned\n",
    "node1 = [2, 0, 0]  # Midpoint (force applied)\n",
    "node2 = [4, 0, 0]  # Pin\n",
    "nodes = np.array([node0, node1, node2])"
   ]
  },
  {
   "cell_type": "markdown",
   "metadata": {},
   "source": [
    "### Define elements to establish connectivity in the structure ([node1, node2, E, v, A, Iz, Iy, Ip, J, z_axis])"
   ]
  },
  {
   "cell_type": "code",
   "execution_count": 3,
   "metadata": {},
   "outputs": [],
   "source": [
    "el_1 = [0, 1, 200e9, 0.3, 0.01, 8.33e-6, 8.33e-6, 0, 0, [0, 0, 1]]\n",
    "el_2 = [1, 2, 200e9, 0.3, 0.01, 8.33e-6, 8.33e-6, 0, 0, [0, 0, 1]]\n",
    "element_connect = np.array([el_1, el_2], dtype=object)"
   ]
  },
  {
   "cell_type": "markdown",
   "metadata": {},
   "source": [
    "### Define applied forces as node vectors corresponding to the node location (Fx, Fy, Fz, Mx, My, Mz)"
   ]
  },
  {
   "cell_type": "code",
   "execution_count": 4,
   "metadata": {},
   "outputs": [],
   "source": [
    "f_appl = np.array([[0,0,0,0,0,0],   # Node 0: No force\n",
    "                   [1,1,0,0,0,0],   # Node 1: Applied force in x and y direction\n",
    "                   [0,0,0,0,0,0]])  # Node 2: No force"
   ]
  },
  {
   "cell_type": "markdown",
   "metadata": {},
   "source": [
    "### Define support conditions (Node index, Fixed, Pinned)"
   ]
  },
  {
   "cell_type": "code",
   "execution_count": null,
   "metadata": {},
   "outputs": [],
   "source": [
    "support_0 = [0, 0, 1]  # Pinned: Restrains all translation (x, y, z)\n",
    "support_2 = [2, 0, 1]  # Pinned: Restrains all translation (x, y, z)\n",
    "supports = np.array([support_0, support_2])"
   ]
  },
  {
   "cell_type": "markdown",
   "metadata": {},
   "source": [
    "### Run Matrix Structural Analysis Algorithm to output displacement vector and force vector, respectively"
   ]
  },
  {
   "cell_type": "code",
   "execution_count": 6,
   "metadata": {},
   "outputs": [
    {
     "ename": "ValueError",
     "evalue": "Singular stiffness matrix detected. Check supports.",
     "output_type": "error",
     "traceback": [
      "\u001b[1;31m---------------------------------------------------------------------------\u001b[0m",
      "\u001b[1;31mValueError\u001b[0m                                Traceback (most recent call last)",
      "Cell \u001b[1;32mIn[6], line 1\u001b[0m\n\u001b[1;32m----> 1\u001b[0m del_vec, F_vec \u001b[38;5;241m=\u001b[39m mat_struct(nodes, element_connect, f_appl, supports)\n",
      "File \u001b[1;32mc:\\Users\\jpeg1\\OneDrive\\Desktop\\Grad School\\Spring 2025\\ME 700\\Assignment_2\\src\\mat_struct.py:417\u001b[0m, in \u001b[0;36mmat_struct\u001b[1;34m(nodes, element_connect, f_appl, supports)\u001b[0m\n\u001b[0;32m    415\u001b[0m f_u \u001b[38;5;241m=\u001b[39m np\u001b[38;5;241m.\u001b[39mconcatenate([np\u001b[38;5;241m.\u001b[39marray(node\u001b[38;5;241m.\u001b[39mF)\u001b[38;5;241m.\u001b[39mflatten() \u001b[38;5;28;01mfor\u001b[39;00m node \u001b[38;5;129;01min\u001b[39;00m nodevals])[unsupported_dofs]\n\u001b[0;32m    416\u001b[0m \u001b[38;5;28;01mif\u001b[39;00m np\u001b[38;5;241m.\u001b[39mlinalg\u001b[38;5;241m.\u001b[39mcond(k_uu) \u001b[38;5;241m>\u001b[39m \u001b[38;5;241m1e10\u001b[39m:\n\u001b[1;32m--> 417\u001b[0m     \u001b[38;5;28;01mraise\u001b[39;00m \u001b[38;5;167;01mValueError\u001b[39;00m(\u001b[38;5;124m\"\u001b[39m\u001b[38;5;124mSingular stiffness matrix detected. Check supports.\u001b[39m\u001b[38;5;124m\"\u001b[39m)\n\u001b[0;32m    419\u001b[0m \u001b[38;5;66;03m# Solve for displacements\u001b[39;00m\n\u001b[0;32m    420\u001b[0m del_u \u001b[38;5;241m=\u001b[39m np\u001b[38;5;241m.\u001b[39mlinalg\u001b[38;5;241m.\u001b[39msolve(k_uu, f_u)\n",
      "\u001b[1;31mValueError\u001b[0m: Singular stiffness matrix detected. Check supports."
     ]
    }
   ],
   "source": [
    "del_vec, F_vec = mat_struct(nodes, element_connect, f_appl, supports)"
   ]
  },
  {
   "cell_type": "markdown",
   "metadata": {},
   "source": [
    "### Print Results"
   ]
  },
  {
   "cell_type": "code",
   "execution_count": null,
   "metadata": {},
   "outputs": [],
   "source": [
    "print(\"Displacements:\\n\", del_vec)\n",
    "print(\"Forces:\\n\", F_vec)"
   ]
  }
 ],
 "metadata": {
  "kernelspec": {
   "display_name": "base",
   "language": "python",
   "name": "python3"
  },
  "language_info": {
   "codemirror_mode": {
    "name": "ipython",
    "version": 3
   },
   "file_extension": ".py",
   "mimetype": "text/x-python",
   "name": "python",
   "nbconvert_exporter": "python",
   "pygments_lexer": "ipython3",
   "version": "3.12.7"
  }
 },
 "nbformat": 4,
 "nbformat_minor": 2
}
