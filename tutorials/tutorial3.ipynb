{
 "cells": [
  {
   "cell_type": "code",
   "execution_count": 2,
   "metadata": {},
   "outputs": [
    {
     "name": "stdout",
     "output_type": "stream",
     "text": [
      "[-5.23598776e+03+0.j -1.50111879e+04+0.j -3.14159265e+01+0.j\n",
      " -2.45559681e-14+0.j -5.99557786e+01+0.j -6.28318531e+00+0.j\n",
      " -3.14159265e+01+0.j -1.96414235e-14+0.j -2.01380214e+03+0.j\n",
      " -6.28321080e+00+0.j -2.01384144e+03+0.j -6.28318531e+00+0.j]\n"
     ]
    },
    {
     "ename": "ValueError",
     "evalue": "No positive eigenvalues found",
     "output_type": "error",
     "traceback": [
      "\u001b[1;31m---------------------------------------------------------------------------\u001b[0m",
      "\u001b[1;31mValueError\u001b[0m                                Traceback (most recent call last)",
      "Cell \u001b[1;32mIn[2], line 23\u001b[0m\n\u001b[0;32m     20\u001b[0m support_1 \u001b[38;5;241m=\u001b[39m [\u001b[38;5;241m1\u001b[39m, \u001b[38;5;241m0\u001b[39m, \u001b[38;5;241m0\u001b[39m, \u001b[38;5;241m0\u001b[39m, \u001b[38;5;241m0\u001b[39m, \u001b[38;5;241m0\u001b[39m, \u001b[38;5;241m0\u001b[39m]  \u001b[38;5;66;03m# Free: No restraints\u001b[39;00m\n\u001b[0;32m     21\u001b[0m supports \u001b[38;5;241m=\u001b[39m np\u001b[38;5;241m.\u001b[39marray([support_0, support_1])\n\u001b[1;32m---> 23\u001b[0m del_vec, F_vec, nodevals, elementvals \u001b[38;5;241m=\u001b[39m nonlinear_analysis(nodes, element_connect, f_appl, supports)\n\u001b[0;32m     25\u001b[0m \u001b[38;5;28mprint\u001b[39m(\u001b[38;5;124m\"\u001b[39m\u001b[38;5;124mDisplacements:\u001b[39m\u001b[38;5;130;01m\\n\u001b[39;00m\u001b[38;5;124m\"\u001b[39m, del_vec)\n\u001b[0;32m     26\u001b[0m \u001b[38;5;28mprint\u001b[39m(\u001b[38;5;124m\"\u001b[39m\u001b[38;5;124mForces:\u001b[39m\u001b[38;5;130;01m\\n\u001b[39;00m\u001b[38;5;124m\"\u001b[39m, F_vec)\n",
      "File \u001b[1;32mc:\\Users\\jpeg1\\OneDrive\\Desktop\\Grad School\\Spring 2025\\ME 700\\Assignment_2\\src\\nonlinear_analysis.py:262\u001b[0m, in \u001b[0;36mnonlinear_analysis\u001b[1;34m(nodes, element_connect, f_appl, supports)\u001b[0m\n\u001b[0;32m    260\u001b[0m \u001b[38;5;28;01mfor\u001b[39;00m i \u001b[38;5;129;01min\u001b[39;00m \u001b[38;5;28mrange\u001b[39m(\u001b[38;5;28mlen\u001b[39m(elementvals)):\n\u001b[0;32m    261\u001b[0m     elementvals[i]\u001b[38;5;241m.\u001b[39mk_g \u001b[38;5;241m=\u001b[39m local_geometric_stiffness_matrix_3D_beam(elementvals[i]\u001b[38;5;241m.\u001b[39mL, elementvals[i]\u001b[38;5;241m.\u001b[39mA, elementvals[i]\u001b[38;5;241m.\u001b[39mIp, elementvals[i]\u001b[38;5;241m.\u001b[39mFx2, elementvals[i]\u001b[38;5;241m.\u001b[39mMx2, elementvals[i]\u001b[38;5;241m.\u001b[39mMy1, elementvals[i]\u001b[38;5;241m.\u001b[39mMz1, elementvals[i]\u001b[38;5;241m.\u001b[39mMy2, elementvals[i]\u001b[38;5;241m.\u001b[39mMz2)\n\u001b[1;32m--> 262\u001b[0m     elementvals[i]\u001b[38;5;241m.\u001b[39mlambda_crit, elementvals[i]\u001b[38;5;241m.\u001b[39mdeformation_vector \u001b[38;5;241m=\u001b[39m e_crit(elementvals[i]\u001b[38;5;241m.\u001b[39mk_e, elementvals[i]\u001b[38;5;241m.\u001b[39mk_g)\n\u001b[0;32m    264\u001b[0m \u001b[38;5;66;03m# Extract displacement components (u, v, w) for visualization\u001b[39;00m\n\u001b[0;32m    265\u001b[0m num_nodes \u001b[38;5;241m=\u001b[39m \u001b[38;5;28mlen\u001b[39m(nodes)\n",
      "File \u001b[1;32mc:\\Users\\jpeg1\\OneDrive\\Desktop\\Grad School\\Spring 2025\\ME 700\\Assignment_2\\src\\nonlinear_analysis.py:113\u001b[0m, in \u001b[0;36me_crit\u001b[1;34m(k_e, k_g)\u001b[0m\n\u001b[0;32m    111\u001b[0m     \u001b[38;5;28;01mreturn\u001b[39;00m lambda_crit, deformation_vector\n\u001b[0;32m    112\u001b[0m \u001b[38;5;28;01melse\u001b[39;00m:\n\u001b[1;32m--> 113\u001b[0m     \u001b[38;5;28;01mraise\u001b[39;00m \u001b[38;5;167;01mValueError\u001b[39;00m(\u001b[38;5;124m\"\u001b[39m\u001b[38;5;124mNo positive eigenvalues found\u001b[39m\u001b[38;5;124m\"\u001b[39m)\n",
      "\u001b[1;31mValueError\u001b[0m: No positive eigenvalues found"
     ]
    }
   ],
   "source": [
    "import sys\n",
    "import os\n",
    "import numpy as np\n",
    "\n",
    "sys.path.append(os.path.abspath('..'))\n",
    "from src.mat_struct import *\n",
    "from src.nonlinear_analysis import *\n",
    "\n",
    "node0 = [0, 0, 0]  # Fixed\n",
    "node1 = [30, 40, 0]  # Midpoint (force applied)\n",
    "nodes = np.array([node0, node1])\n",
    "\n",
    "el_1 = [0, 1, 1000, 0.3, np.pi, np.pi/4, np.pi/4, np.pi/2, np.pi/2, None]\n",
    "element_connect = np.array([el_1], dtype=object)\n",
    "\n",
    "f_appl = np.array([[0,0,0,0,0,0],   # Node 0: No force\n",
    "                   [-3/5,-4/5,0,0,0,0]])\n",
    "\n",
    "support_0 = [0, 1, 1, 1, 1, 1, 1]  # Fixed: Restraints all DOF\n",
    "support_1 = [1, 0, 0, 0, 0, 0, 0]  # Free: No restraints\n",
    "supports = np.array([support_0, support_1])\n",
    "\n",
    "del_vec, F_vec, nodevals, elementvals = nonlinear_analysis(nodes, element_connect, f_appl, supports)\n",
    "\n",
    "print(\"Displacements:\\n\", del_vec)\n",
    "print(\"Forces:\\n\", F_vec)"
   ]
  }
 ],
 "metadata": {
  "kernelspec": {
   "display_name": "base",
   "language": "python",
   "name": "python3"
  },
  "language_info": {
   "codemirror_mode": {
    "name": "ipython",
    "version": 3
   },
   "file_extension": ".py",
   "mimetype": "text/x-python",
   "name": "python",
   "nbconvert_exporter": "python",
   "pygments_lexer": "ipython3",
   "version": "3.12.7"
  }
 },
 "nbformat": 4,
 "nbformat_minor": 2
}
