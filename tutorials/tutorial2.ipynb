{
 "cells": [
  {
   "cell_type": "markdown",
   "metadata": {},
   "source": [
    "# Matrix Structural Analysis Use Tutorial 2"
   ]
  },
  {
   "cell_type": "markdown",
   "metadata": {},
   "source": [
    "## This tutorial outlines the use of the matrix structural analysis algorithm for the second problem during the code review on 2/24/25."
   ]
  },
  {
   "cell_type": "markdown",
   "metadata": {},
   "source": [
    "### Begin by importing necessary libraries and functionality from matrix structural analysis file"
   ]
  },
  {
   "cell_type": "code",
   "execution_count": 8,
   "metadata": {},
   "outputs": [],
   "source": [
    "import sys\n",
    "import os\n",
    "import numpy as np\n",
    "\n",
    "sys.path.append(os.path.abspath('..'))\n",
    "from src.mat_struct import mat_struct\n",
    "from src.mat_struct import mat_struct"
   ]
  },
  {
   "cell_type": "markdown",
   "metadata": {},
   "source": [
    "### Define node coordinates as row vectors (x, y, z)"
   ]
  },
  {
   "cell_type": "code",
   "execution_count": 9,
   "metadata": {},
   "outputs": [],
   "source": [
    "node0 = [0, 0, 0]\n",
    "node1 = [-5, 1, 10]  \n",
    "node2 = [-1, 5, 13] \n",
    "node3 = [-3, 7, 11]\n",
    "node4 = [6, 9, 5]\n",
    "nodes = np.array([node0, node1, node2, node3, node4])"
   ]
  },
  {
   "cell_type": "markdown",
   "metadata": {},
   "source": [
    "### Define elements to establish connectivity in the structure ([node1, node2, E, v, A, Iz, Iy, Ip, J, z_axis])"
   ]
  },
  {
   "cell_type": "code",
   "execution_count": 10,
   "metadata": {},
   "outputs": [],
   "source": [
    "el_1 = [0, 1, 500, 0.3, np.pi, np.pi/4, np.pi/4, np.pi/2, np.pi/2, None]\n",
    "el_2 = [1, 2, 500, 0.3, np.pi, np.pi/4, np.pi/4, np.pi/2, np.pi/2, None]\n",
    "el_3 = [2, 3, 500, 0.3, np.pi, np.pi/4, np.pi/4, np.pi/2, np.pi/2, None]\n",
    "el_4 = [2, 4, 500, 0.3, np.pi, np.pi/4, np.pi/4, np.pi/2, np.pi/2, None]\n",
    "element_connect = np.array([el_1, el_2, el_3, el_4], dtype=object)"
   ]
  },
  {
   "cell_type": "markdown",
   "metadata": {},
   "source": [
    "### Define applied forces as node vectors corresponding to the node location (Fx, Fy, Fz, Mx, My, Mz)"
   ]
  },
  {
   "cell_type": "code",
   "execution_count": 11,
   "metadata": {},
   "outputs": [],
   "source": [
    "f_appl = np.array([[0,0,0,0,0,0],   # Node 0: No force\n",
    "                   [0.1,-0.05,-0.075,0,0,0], # Node 1: applied force\n",
    "                   [0, 0, 0, 0.5,-0.1,0.3],   # Node 2: Applied moment\n",
    "                   [0,0,0,0,0,0],  # Node 3: No force\n",
    "                   [0,0,0,0,0,0]]) # Node 4: No Force"
   ]
  },
  {
   "cell_type": "markdown",
   "metadata": {},
   "source": [
    "### Define support conditions, where a value of 1 is restricted and a value of 0 is unrestricted for the corresponding DOF (Node index, DOF 1, DOF 2, DOF 3, DOF 4, DOF 5, DOF 6)"
   ]
  },
  {
   "cell_type": "code",
   "execution_count": 12,
   "metadata": {},
   "outputs": [],
   "source": [
    "support_0 = [0, 0, 0, 1, 0, 0, 0] \n",
    "support_1 = [1, 0, 0, 0, 0, 0, 0]\n",
    "support_2 = [2, 0, 0, 0, 0, 0, 0]\n",
    "support_3 = [3, 1, 1, 1, 1, 1, 1]\n",
    "support_4 = [4, 1, 1, 1, 0, 0, 0]\n",
    "supports = np.array([support_0, support_1, support_2, support_3, support_4])"
   ]
  },
  {
   "cell_type": "markdown",
   "metadata": {},
   "source": [
    "### Run Matrix Structural Analysis Algorithm to output displacement vector and force vector, respectively"
   ]
  },
  {
   "cell_type": "code",
   "execution_count": 13,
   "metadata": {},
   "outputs": [],
   "source": [
    "del_vec, F_vec = mat_struct(nodes, element_connect, f_appl, supports)"
   ]
  },
  {
   "cell_type": "markdown",
   "metadata": {},
   "source": [
    "### Print Results"
   ]
  },
  {
   "cell_type": "code",
   "execution_count": 14,
   "metadata": {},
   "outputs": [
    {
     "name": "stdout",
     "output_type": "stream",
     "text": [
      "Displacements:\n",
      " [ 0.16297422  0.06753731  0.          0.0038603  -0.00977672  0.00997704\n",
      "  0.05683823 -0.02127261 -0.04423469  0.00395566 -0.00929992  0.00997704\n",
      "  0.00104443  0.00109052  0.00034632  0.00313556 -0.0040055   0.00514273\n",
      "  0.          0.          0.          0.          0.          0.\n",
      "  0.          0.          0.         -0.00455166  0.00049019  0.00066426]\n",
      "Forces:\n",
      " [-4.44089210e-16  1.66533454e-16  6.67219970e-03  0.00000000e+00\n",
      "  2.22044605e-16 -8.32667268e-17  1.00000000e-01 -5.00000000e-02\n",
      " -7.50000000e-02 -2.22044605e-16  4.44089210e-16 -4.44089210e-16\n",
      " -1.33226763e-15 -1.33226763e-15 -1.77635684e-15  5.00000000e-01\n",
      " -1.00000000e-01  3.00000000e-01 -2.35127129e-02  1.37948249e-01\n",
      "  2.53249828e-02 -4.11610746e-01  2.98118234e-01 -3.61440337e-01\n",
      " -7.64872871e-02 -8.79482485e-02  4.30028175e-02 -1.11022302e-16\n",
      " -6.24500451e-17 -2.77555756e-17]\n"
     ]
    }
   ],
   "source": [
    "print(\"Displacements:\\n\", del_vec)\n",
    "print(\"Forces:\\n\", F_vec)"
   ]
  }
 ],
 "metadata": {
  "kernelspec": {
   "display_name": "base",
   "language": "python",
   "name": "python3"
  },
  "language_info": {
   "codemirror_mode": {
    "name": "ipython",
    "version": 3
   },
   "file_extension": ".py",
   "mimetype": "text/x-python",
   "name": "python",
   "nbconvert_exporter": "python",
   "pygments_lexer": "ipython3",
   "version": "3.12.7"
  }
 },
 "nbformat": 4,
 "nbformat_minor": 2
}
