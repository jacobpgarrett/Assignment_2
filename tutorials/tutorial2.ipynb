{
 "cells": [
  {
   "cell_type": "markdown",
   "metadata": {},
   "source": [
    "# Matrix Structural Analysis Use Tutorial 2"
   ]
  },
  {
   "cell_type": "markdown",
   "metadata": {},
   "source": [
    "## This tutorial outlines the use of the matrix structural analysis algorithm for the second problem during the code review on 2/24/25."
   ]
  },
  {
   "cell_type": "markdown",
   "metadata": {},
   "source": [
    "### Begin by importing necessary libraries and functionality from matrix structural analysis file"
   ]
  },
  {
   "cell_type": "code",
   "execution_count": 56,
   "metadata": {},
   "outputs": [],
   "source": [
    "import sys\n",
    "import os\n",
    "import numpy as np\n",
    "\n",
    "sys.path.append(os.path.abspath('..'))\n",
    "from src.mat_struct import mat_struct\n",
    "from src.mat_struct import mat_struct"
   ]
  },
  {
   "cell_type": "markdown",
   "metadata": {},
   "source": [
    "### Define node coordinates as row vectors (x, y, z)"
   ]
  },
  {
   "cell_type": "code",
   "execution_count": 57,
   "metadata": {},
   "outputs": [],
   "source": [
    "node0 = [0, 0, 0]\n",
    "node1 = [-5, 1, 10]  \n",
    "node2 = [-1, 5, 13] \n",
    "node3 = [-3, 7, 11]\n",
    "node4 = [6, 9, 5]\n",
    "nodes = np.array([node0, node1, node2, node3, node4])"
   ]
  },
  {
   "cell_type": "markdown",
   "metadata": {},
   "source": [
    "### Define elements to establish connectivity in the structure ([node1, node2, E, v, A, Iz, Iy, Ip, J, z_axis])"
   ]
  },
  {
   "cell_type": "code",
   "execution_count": 58,
   "metadata": {},
   "outputs": [],
   "source": [
    "el_1 = [0, 1, 500, 0.3, np.pi, np.pi/4, np.pi/4, np.pi/2, np.pi/2, None]\n",
    "el_2 = [1, 2, 500, 0.3, np.pi, np.pi/4, np.pi/4, np.pi/2, np.pi/2, None]\n",
    "el_3 = [2, 3, 500, 0.3, np.pi, np.pi/4, np.pi/4, np.pi/2, np.pi/2, None]\n",
    "el_4 = [2, 4, 500, 0.3, np.pi, np.pi/4, np.pi/4, np.pi/2, np.pi/2, None]\n",
    "element_connect = np.array([el_1, el_2, el_3, el_4], dtype=object)"
   ]
  },
  {
   "cell_type": "markdown",
   "metadata": {},
   "source": [
    "### Define applied forces as node vectors corresponding to the node location (Fx, Fy, Fz, Mx, My, Mz)"
   ]
  },
  {
   "cell_type": "code",
   "execution_count": 59,
   "metadata": {},
   "outputs": [],
   "source": [
    "f_appl = np.array([[0,0,0,0,0,0],   # Node 0: No force\n",
    "                   [0,0,0,0,0,0], # Node 1: No force\n",
    "                   [0.1,-0.05,-0.075,0.05,-0.1,0.3],   # Node 2: Applied force and moment\n",
    "                   [0,0,0,0,0,0],  # Node 3: No force\n",
    "                   [0,0,0,0,0,0]]) # Node 4: No Force"
   ]
  },
  {
   "cell_type": "markdown",
   "metadata": {},
   "source": [
    "### Define support conditions, where a value of 1 is restricted and a value of 0 is unrestricted for the corresponding DOF (Node index, DOF 1, DOF 2, DOF 3, DOF 4, DOF 5, DOF 6)"
   ]
  },
  {
   "cell_type": "code",
   "execution_count": 60,
   "metadata": {},
   "outputs": [],
   "source": [
    "support_0 = [0, 0, 0, 1, 0, 0, 0]  # Fixed: Restrains all DOF\n",
    "support_1 = [1, 0, 0, 0, 0, 0, 0]\n",
    "support_2 = [2, 0, 0, 0, 0, 0, 0]  # Pinned: Restrains all translation (x, y, z)\n",
    "support_3 = [3, 1, 1, 1, 1, 1, 1]\n",
    "support_4 = [4, 1, 1, 1, 0, 0, 0]\n",
    "supports = np.array([support_0, support_1, support_2, support_3, support_4])"
   ]
  },
  {
   "cell_type": "markdown",
   "metadata": {},
   "source": [
    "### Run Matrix Structural Analysis Algorithm to output displacement vector and force vector, respectively"
   ]
  },
  {
   "cell_type": "code",
   "execution_count": 61,
   "metadata": {},
   "outputs": [],
   "source": [
    "del_vec, F_vec = mat_struct(nodes, element_connect, f_appl, supports)"
   ]
  },
  {
   "cell_type": "markdown",
   "metadata": {},
   "source": [
    "### Print Results"
   ]
  },
  {
   "cell_type": "code",
   "execution_count": 62,
   "metadata": {},
   "outputs": [
    {
     "name": "stdout",
     "output_type": "stream",
     "text": [
      "Displacements:\n",
      " [ 0.01877857  0.00539719  0.          0.00023543 -0.0009115   0.00147867\n",
      "  0.00879036 -0.00447151 -0.00402518  0.00027132 -0.00073201  0.00147867\n",
      "  0.00090192  0.00048286 -0.00012332  0.00042296 -0.00058037  0.00150025\n",
      "  0.          0.          0.          0.          0.          0.\n",
      "  0.          0.          0.         -0.00117553 -0.00016445  0.00030952]\n",
      "Forces:\n",
      " [ 5.55111512e-17 -6.24500451e-17  2.51174713e-03  2.77555756e-17\n",
      "  1.38777878e-16 -1.38777878e-17  0.00000000e+00  1.66533454e-16\n",
      "  2.22044605e-16 -2.77555756e-17  3.33066907e-16 -1.24900090e-16\n",
      "  1.00000000e-01 -5.00000000e-02 -7.50000000e-02  5.00000000e-02\n",
      " -1.00000000e-01  3.00000000e-01 -3.14900651e-02  1.00911239e-01\n",
      " -1.70009715e-03 -1.25327039e-01  1.41707821e-02 -7.88187233e-02\n",
      " -6.85099349e-02 -5.09112385e-02  7.41883500e-02 -2.77555756e-17\n",
      "  3.46944695e-18 -2.08166817e-17]\n"
     ]
    }
   ],
   "source": [
    "print(\"Displacements:\\n\", del_vec)\n",
    "print(\"Forces:\\n\", F_vec)"
   ]
  }
 ],
 "metadata": {
  "kernelspec": {
   "display_name": "base",
   "language": "python",
   "name": "python3"
  },
  "language_info": {
   "codemirror_mode": {
    "name": "ipython",
    "version": 3
   },
   "file_extension": ".py",
   "mimetype": "text/x-python",
   "name": "python",
   "nbconvert_exporter": "python",
   "pygments_lexer": "ipython3",
   "version": "3.12.7"
  }
 },
 "nbformat": 4,
 "nbformat_minor": 2
}
