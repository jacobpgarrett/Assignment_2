{
 "cells": [
  {
   "cell_type": "code",
   "execution_count": 1,
   "metadata": {},
   "outputs": [
    {
     "ename": "ValueError",
     "evalue": "Singular stiffness matrix detected. Check supports.",
     "output_type": "error",
     "traceback": [
      "\u001b[1;31m---------------------------------------------------------------------------\u001b[0m",
      "\u001b[1;31mValueError\u001b[0m                                Traceback (most recent call last)",
      "Cell \u001b[1;32mIn[1], line 49\u001b[0m\n\u001b[0;32m     46\u001b[0m support_7 \u001b[38;5;241m=\u001b[39m [\u001b[38;5;241m7\u001b[39m, \u001b[38;5;241m0\u001b[39m, \u001b[38;5;241m0\u001b[39m, \u001b[38;5;241m0\u001b[39m, \u001b[38;5;241m0\u001b[39m, \u001b[38;5;241m0\u001b[39m, \u001b[38;5;241m0\u001b[39m]\n\u001b[0;32m     47\u001b[0m supports \u001b[38;5;241m=\u001b[39m np\u001b[38;5;241m.\u001b[39marray([support_0, support_1, support_2, support_3, support_4, support_5, support_6, support_7])\n\u001b[1;32m---> 49\u001b[0m del_vec, F_vec, nodevals, elementvals \u001b[38;5;241m=\u001b[39m nonlinear_analysis(nodes, element_connect, f_appl, supports)\n\u001b[0;32m     51\u001b[0m \u001b[38;5;28mprint\u001b[39m(\u001b[38;5;124m\"\u001b[39m\u001b[38;5;124mDisplacements:\u001b[39m\u001b[38;5;130;01m\\n\u001b[39;00m\u001b[38;5;124m\"\u001b[39m, del_vec)\n\u001b[0;32m     52\u001b[0m \u001b[38;5;28mprint\u001b[39m(\u001b[38;5;124m\"\u001b[39m\u001b[38;5;124mForces:\u001b[39m\u001b[38;5;130;01m\\n\u001b[39;00m\u001b[38;5;124m\"\u001b[39m, F_vec)\n",
      "File \u001b[1;32mc:\\Users\\jpeg1\\OneDrive\\Desktop\\Grad School\\Spring 2025\\ME 700\\Assignment_2\\src\\nonlinear_analysis.py:242\u001b[0m, in \u001b[0;36mnonlinear_analysis\u001b[1;34m(nodes, element_connect, f_appl, supports)\u001b[0m\n\u001b[0;32m    240\u001b[0m     k_g_local \u001b[38;5;241m=\u001b[39m local_geometric_stiffness_matrix_3D_beam(elem\u001b[38;5;241m.\u001b[39mL, elem\u001b[38;5;241m.\u001b[39mA, elem\u001b[38;5;241m.\u001b[39mIp, elem\u001b[38;5;241m.\u001b[39mFx2, elem\u001b[38;5;241m.\u001b[39mMx2, elem\u001b[38;5;241m.\u001b[39mMy1, elem\u001b[38;5;241m.\u001b[39mMz1, elem\u001b[38;5;241m.\u001b[39mMy2, elem\u001b[38;5;241m.\u001b[39mMz2)\n\u001b[0;32m    241\u001b[0m     k_g_local \u001b[38;5;241m=\u001b[39m elem\u001b[38;5;241m.\u001b[39mGamma\u001b[38;5;241m.\u001b[39mT \u001b[38;5;241m@\u001b[39m k_g_local \u001b[38;5;241m@\u001b[39m elem\u001b[38;5;241m.\u001b[39mGamma\n\u001b[1;32m--> 242\u001b[0m     check_singular(k_g_local)  \u001b[38;5;66;03m# Ensure geometric stiffness matrix is not singular\u001b[39;00m\n\u001b[0;32m    243\u001b[0m     elem\u001b[38;5;241m.\u001b[39mlambda_crit, elem\u001b[38;5;241m.\u001b[39mdeformation_vector \u001b[38;5;241m=\u001b[39m e_crit(k_e_local, k_g_local)\n\u001b[0;32m    245\u001b[0m \u001b[38;5;28;01mreturn\u001b[39;00m del_vec, F_vec, nodevals, elementvals\n",
      "File \u001b[1;32mc:\\Users\\jpeg1\\OneDrive\\Desktop\\Grad School\\Spring 2025\\ME 700\\Assignment_2\\src\\mat_struct.py:226\u001b[0m, in \u001b[0;36mcheck_singular\u001b[1;34m(matrix)\u001b[0m\n\u001b[0;32m    222\u001b[0m \u001b[38;5;250m\u001b[39m\u001b[38;5;124;03m\"\"\"\u001b[39;00m\n\u001b[0;32m    223\u001b[0m \u001b[38;5;124;03mChecks to see if a matrix is singular\u001b[39;00m\n\u001b[0;32m    224\u001b[0m \u001b[38;5;124;03m\"\"\"\u001b[39;00m\n\u001b[0;32m    225\u001b[0m \u001b[38;5;28;01mif\u001b[39;00m np\u001b[38;5;241m.\u001b[39mlinalg\u001b[38;5;241m.\u001b[39mcond(matrix) \u001b[38;5;241m>\u001b[39m \u001b[38;5;241m1e10\u001b[39m:\n\u001b[1;32m--> 226\u001b[0m     \u001b[38;5;28;01mraise\u001b[39;00m \u001b[38;5;167;01mValueError\u001b[39;00m(\u001b[38;5;124m\"\u001b[39m\u001b[38;5;124mSingular stiffness matrix detected. Check supports.\u001b[39m\u001b[38;5;124m\"\u001b[39m)\n",
      "\u001b[1;31mValueError\u001b[0m: Singular stiffness matrix detected. Check supports."
     ]
    }
   ],
   "source": [
    "import sys\n",
    "import os\n",
    "import numpy as np\n",
    "\n",
    "sys.path.append(os.path.abspath('..'))\n",
    "from src.mat_struct import *\n",
    "from src.nonlinear_analysis import *\n",
    "\n",
    "node0 = [0, 0, 0]  # Fixed\n",
    "node1 = [10, 0, 0]  # Midpoint (force applied)\n",
    "node2 = [10, 20, 0]\n",
    "node3 = [0, 20, 0]\n",
    "node4 = [0, 0, 25]\n",
    "node5 = [10, 0, 25]\n",
    "node6 = [10, 20, 25]\n",
    "node7 = [0, 20, 25]\n",
    "nodes = np.array([node0, node1, node2, node3, node4, node5, node6, node7])\n",
    "\n",
    "r = 0.5\n",
    "el_0 = [0, 4, 500, 0.3, np.pi*r**2, np.pi*r**4/4, np.pi*r**4/4, np.pi*r**4/2, np.pi*r**4/2, None]\n",
    "el_1 = [1, 5, 500, 0.3, np.pi*r**2, np.pi*r**4/4, np.pi*r**4/4, np.pi*r**4/2, np.pi*r**4/2, None]\n",
    "el_2 = [2, 6, 500, 0.3, np.pi*r**2, np.pi*r**4/4, np.pi*r**4/4, np.pi*r**4/2, np.pi*r**4/2, None]\n",
    "el_3 = [3, 7, 500, 0.3, np.pi*r**2, np.pi*r**4/4, np.pi*r**4/4, np.pi*r**4/2, np.pi*r**4/2, None]\n",
    "el_4 = [4, 5, 500, 0.3, np.pi*r**2, np.pi*r**4/4, np.pi*r**4/4, np.pi*r**4/2, np.pi*r**4/2, None]\n",
    "el_5 = [5, 6, 500, 0.3, np.pi*r**2, np.pi*r**4/4, np.pi*r**4/4, np.pi*r**4/2, np.pi*r**4/2, None]\n",
    "el_6 = [6, 7, 500, 0.3, np.pi*r**2, np.pi*r**4/4, np.pi*r**4/4, np.pi*r**4/2, np.pi*r**4/2, None]\n",
    "el_7 = [7, 4, 500, 0.3, np.pi*r**2, np.pi*r**4/4, np.pi*r**4/4, np.pi*r**4/2, np.pi*r**4/2, None]\n",
    "element_connect = np.array([el_0, el_1, el_2, el_3, el_4, el_5, el_6, el_7], dtype=object)\n",
    "\n",
    "f_appl = np.array([[0,0,0,0,0,0],   # Node 0: No force\n",
    "                   [0,0,0,0,0,0],\n",
    "                   [0,0,0,0,0,0],\n",
    "                   [0,0,0,0,0,0],\n",
    "                   [0,0,-1,0,0,0],\n",
    "                   [0,0,-1,0,0,0],\n",
    "                   [0,0,-1,0,0,0],\n",
    "                   [0,0,-1,0,0,0]])\n",
    "\n",
    "support_0 = [0, 1, 1, 1, 1, 1, 1]  # Fixed: Restraints all DOF\n",
    "support_1 = [1, 1, 1, 1, 1, 1, 1]  \n",
    "support_2 = [2, 1, 1, 1, 1, 1, 1]\n",
    "support_3 = [3, 1, 1, 1, 1, 1, 1]\n",
    "support_4 = [4, 0, 0, 0, 0, 0, 0]\n",
    "support_5 = [5, 0, 0, 0, 0, 0, 0]\n",
    "support_6 = [6, 0, 0, 0, 0, 0, 0]\n",
    "support_7 = [7, 0, 0, 0, 0, 0, 0]\n",
    "supports = np.array([support_0, support_1, support_2, support_3, support_4, support_5, support_6, support_7])\n",
    "\n",
    "del_vec, F_vec, nodevals, elementvals = nonlinear_analysis(nodes, element_connect, f_appl, supports)\n",
    "\n",
    "print(\"Displacements:\\n\", del_vec)\n",
    "print(\"Forces:\\n\", F_vec)\n"
   ]
  },
  {
   "cell_type": "code",
   "execution_count": null,
   "metadata": {},
   "outputs": [
    {
     "name": "stdout",
     "output_type": "stream",
     "text": [
      "(inf+0j)\n",
      "(inf+0j)\n",
      "(inf+0j)\n",
      "(inf+0j)\n",
      "(inf+0j)\n",
      "(inf+0j)\n",
      "(inf+0j)\n",
      "(inf+0j)\n"
     ]
    }
   ],
   "source": [
    "print(elementvals[0].lambda_crit)\n",
    "print(elementvals[1].lambda_crit)\n",
    "print(elementvals[2].lambda_crit)\n",
    "print(elementvals[3].lambda_crit)\n",
    "print(elementvals[4].lambda_crit)\n",
    "print(elementvals[5].lambda_crit)\n",
    "print(elementvals[6].lambda_crit)\n",
    "print(elementvals[7].lambda_crit)"
   ]
  }
 ],
 "metadata": {
  "kernelspec": {
   "display_name": "base",
   "language": "python",
   "name": "python3"
  },
  "language_info": {
   "codemirror_mode": {
    "name": "ipython",
    "version": 3
   },
   "file_extension": ".py",
   "mimetype": "text/x-python",
   "name": "python",
   "nbconvert_exporter": "python",
   "pygments_lexer": "ipython3",
   "version": "3.12.7"
  }
 },
 "nbformat": 4,
 "nbformat_minor": 2
}
